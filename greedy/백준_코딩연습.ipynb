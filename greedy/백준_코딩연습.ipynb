{
 "cells": [
  {
   "cell_type": "code",
   "execution_count": null,
   "id": "eb548150",
   "metadata": {},
   "outputs": [],
   "source": [
    "'''\n",
    "12865번 평범한 배낭\n",
    "\n",
    "- 문제\n",
    "이 문제는 아주 평범한 배낭에 관한 문제이다. 한 달 후면 국가의 부름을 받게 되는 준서는 여행을 가려고 한다.\n",
    "세상과의 단절을 슬퍼하며 최대한 즐기기 위한 여행이기 때문에, 가지고 다닐 배낭 또한 최대한 가치 있게 싸려고 한다.\n",
    "준서가 여행에 필요하다고 생각하는 N개의 물건이 있다. 각 물건은 무게 W와 가치 V를 가지는데, \n",
    "해당 물건을 배낭에 넣어서 가면 준서가 V만큼 즐길 수 있다. 아직 행군을 해본 적이 없는 준서는 최대 K만큼의 무게만을 \n",
    "넣을 수 있는 배낭만 들고 다닐 수 있다. 준서가 최대한 즐거운 여행을 하기 위해 배낭에 넣을 수 있는 물건들의 가치의 최댓값을 알려주자.\n",
    "\n",
    "- 입력 \n",
    "첫 줄에 물품의 수 N(1 ≤ N ≤ 100)과 준서가 버틸 수 있는 무게 K(1 ≤ K ≤ 100,000)가 주어진다. \n",
    "두 번째 줄부터 N개의 줄에 거쳐 각 물건의 무게 W(1 ≤ W ≤ 100,000)와 해당 물건의 가치 V(0 ≤ V ≤ 1,000)가 주어진다.\n",
    "입력으로 주어지는 모든 수는 정수이다.\n",
    "\n",
    "- 출력 : 한 줄에 배낭에 넣을 수 있는 물건들의 가치합의 최댓값을 출력한다.\n",
    "\n",
    "- 입력 예\n",
    "4 7\n",
    "6 13\n",
    "4 8\n",
    "3 6\n",
    "5 12\n",
    "\n",
    "- 출력 예\n",
    "14\n",
    "\n",
    "'''"
   ]
  },
  {
   "cell_type": "code",
   "execution_count": 29,
   "id": "486ebf1b",
   "metadata": {},
   "outputs": [
    {
     "name": "stdout",
     "output_type": "stream",
     "text": [
      "4 7\n",
      "6 13\n",
      "4 8\n",
      "3 6\n",
      "5 12\n",
      "13\n"
     ]
    }
   ],
   "source": [
    "n, k = map(int, input().split())\n",
    "values = []\n",
    "weights = []\n",
    "answer = 0\n",
    "\n",
    "for i in range(n):\n",
    "    w, v = map(int, input().split())\n",
    "    values.append(v)\n",
    "    weights.append(w)\n",
    "\n",
    "weights = list(reversed(weights))\n",
    "for i in range(n):\n",
    "    for j in range(i+1, n):\n",
    "        if w1 + w2 \n",
    "        \n",
    "print(max_val)"
   ]
  },
  {
   "cell_type": "code",
   "execution_count": 25,
   "id": "6aa947ee",
   "metadata": {},
   "outputs": [
    {
     "name": "stdout",
     "output_type": "stream",
     "text": [
      "[3, 4, 6, 4]\n"
     ]
    }
   ],
   "source": [
    "weights = [4, 6, 4, 3]\n",
    "\n",
    "weight = list(reversed(weights))\n",
    "print(weight)"
   ]
  },
  {
   "cell_type": "code",
   "execution_count": null,
   "id": "5a4409ed",
   "metadata": {},
   "outputs": [],
   "source": []
  }
 ],
 "metadata": {
  "kernelspec": {
   "display_name": "Python 3 (ipykernel)",
   "language": "python",
   "name": "python3"
  },
  "language_info": {
   "codemirror_mode": {
    "name": "ipython",
    "version": 3
   },
   "file_extension": ".py",
   "mimetype": "text/x-python",
   "name": "python",
   "nbconvert_exporter": "python",
   "pygments_lexer": "ipython3",
   "version": "3.9.13"
  }
 },
 "nbformat": 4,
 "nbformat_minor": 5
}
