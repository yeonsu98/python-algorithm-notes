{
 "cells": [
  {
   "cell_type": "markdown",
   "id": "5fba41d8",
   "metadata": {},
   "source": [
    "## 그리디 알고리즘\n",
    "💡 그리디 알고리즘 : 현재 상황에서 지금 당장 좋은 것만 고르는 방법  \n",
    "💡 기준에 따라 좋은 것을 선택하는 알고리즘이므로 문제에서 '가장 큰 순서대로', '가장 작은 순서대로'와 같은 기준을 제시해줌 !  \n",
    "💡 대체로 이 기준은 정렬 알고리즘을 사용했을 때 만족시킬 수 있으므로 자주 정렬 알고리즘과 짝을 이뤄 출제됨  "
   ]
  },
  {
   "cell_type": "code",
   "execution_count": 3,
   "id": "b7ed0bde",
   "metadata": {},
   "outputs": [
    {
     "name": "stdout",
     "output_type": "stream",
     "text": [
      "6\n"
     ]
    }
   ],
   "source": [
    "# 80p 예제 3-1 거스름돈\n",
    "'''\n",
    "    카운터에는 거스름돈으로 사용할 500원, 100원, 50원, 10원짜리 동전히 무한히 존재한다고 가정한다.\n",
    "    손님에게 거슬러 줘야 할 돈이 N원일 때 거슬러 줘야 할 동전의 최소 개수를 구하라. \n",
    "    단, 거슬러 줘야 할 돈은 항상 10의 배수이다.\n",
    "'''\n",
    "money = 1260\n",
    "count = 0\n",
    "\n",
    "# 큰 단위의 화폐부터 차례대로 확인\n",
    "coins = [500, 100, 50, 10]\n",
    "\n",
    "for coin in coins:\n",
    "    count += money // coin\n",
    "    money %= coin\n",
    "    \n",
    "print(count)\n",
    "\n",
    "'''\n",
    "    💡 단, 화폐의 단위가 무작위로 주어진 문제는 2부에서 배울 다이나믹 프로그래밍으로 해결할 수 있음\n",
    "'''"
   ]
  },
  {
   "cell_type": "code",
   "execution_count": 6,
   "id": "dcc43737",
   "metadata": {
    "scrolled": true
   },
   "outputs": [
    {
     "name": "stdout",
     "output_type": "stream",
     "text": [
      "5 8 3\n",
      "2 4 5 4 6\n",
      "46\n"
     ]
    }
   ],
   "source": [
    "# 93p 3-2 큰 수의 법칙\n",
    "'''\n",
    "    배열의 크기 N, 숫자가 더해지는 횟수 M, 그리고 더할 수 있는 횟수 K가 주어질 때 큰 수의 법칙에 따른 결과를 출력하시오.\n",
    "    첫째 줄에 N, M, K의 자연수가 주어지며, 각 자연수는 공백으로 구분한다.\n",
    "    둘째 줄에 N개의 자연수가 주어진다. 각 자연수는 공백으로 구분한다. 단, 각각의 자연수는 1이상 10,000 이하의 수로 주어진다.\n",
    "    입력으로 주어지는 K는 항상 M보다 작거나 같다.\n",
    "    첫째줄에 큰 수의 법칙에 따라 더해진 답을 출력한다.\n",
    "'''\n",
    "\n",
    "n, m, k = map(int, input().split())\n",
    "data = list(map(int, input().split()))\n",
    "\n",
    "data.sort()\n",
    "\n",
    "first = data[n-1]\n",
    "second = data[n-2]\n",
    "\n",
    "result = (m//k)*(first*k) + (m%k)*second\n",
    "print(result)\n",
    "\n",
    "'''\n",
    "    💡 반복되는 수열에 대해 파악하기 !\n",
    "'''"
   ]
  },
  {
   "cell_type": "code",
   "execution_count": 14,
   "id": "ee08fc4d",
   "metadata": {},
   "outputs": [
    {
     "name": "stdout",
     "output_type": "stream",
     "text": [
      "2 4\n",
      "7 3 1 8\n",
      "3 3 3 4\n",
      "3\n"
     ]
    }
   ],
   "source": [
    "# p98 3-3 숫자 카드 게임\n",
    "'''\n",
    "    첫째 줄에 숫자 카드들이 놓인 행의 개수 N과 열의 개수 M이 공백을 기준으로 하여 각각 자연수로 주어진다\n",
    "    둘째 줄부터 N개의 줄에 걸쳐 각 카드에 적힌 숫자가 주어진다. \n",
    "    1) 먼저 뽑고자 하는 카드가 포함되어 있는 행을 선택한다.\n",
    "    2) 선택된 행에 포함된 카드들 중 가장 숫자가 낮은 카드를 뽑아야 한다.\n",
    "    첫째 줄에 게임의 룰에 맞게 선택한 카드에 적힌 숫자를 출력한다.\n",
    "'''\n",
    "\n",
    "n, m = map(int, input().split())\n",
    "\n",
    "for i in range(n):\n",
    "    data = list(map(int, input().split()))\n",
    "    min_data = min(data)\n",
    "    result = max(result, min_data)\n",
    "        \n",
    "print(result)"
   ]
  },
  {
   "cell_type": "code",
   "execution_count": 27,
   "id": "e7cb8ff0",
   "metadata": {},
   "outputs": [
    {
     "name": "stdout",
     "output_type": "stream",
     "text": [
      "25 3\n",
      "6\n"
     ]
    }
   ],
   "source": [
    "# p100 3-4 1이 될 때까지\n",
    "'''\n",
    "    어떠한 수 N이 1이 될 때까지 다음의 두 과정 중 하나를 반복적으로 선택해 수행하려고 한다.\n",
    "    단, 두번째 연산은 N이 K로 나누어떨어질 때만 선택할 수 있다.\n",
    "        1. N에서 1을 뺀다.\n",
    "        2. N을 K로 나눈다.\n",
    "    N과 K가 주어질 때 N이 1이 될 때까지 1번 혹은 2번 과정을 수행해야 하는 최소 횟수를 구하는 프로그램을 작성하시오.\n",
    "    2 <= N, K <= 100,000 가 공백으로 구분되며 각각 자연수로 주어진다. 이때 입력으로 주어지는 N은 항상 K보다 크거나 같다.\n",
    "'''\n",
    "\n",
    "n, k = map(int, input().split())\n",
    "cnt = 0\n",
    "\n",
    "while True:\n",
    "    # n이 k로 나누어 떨어질 때까지 1씩 빼기\n",
    "    target = (n//k)*k\n",
    "    cnt += n - target\n",
    "    n = target\n",
    "    # n이 k보다 작을 때(더이상 나눌 수 없을 때) 반복문 탈출\n",
    "    if n < k:\n",
    "        break\n",
    "    # k로 나누기\n",
    "    cnt += 1\n",
    "    n //= k\n",
    "# 남은 수에 대해 1씩 빼기\n",
    "cnt += (n-1)\n",
    "print(cnt)\n",
    "\n",
    "'''\n",
    "    💡 최대한 많이 나누기\n",
    "    어떤 수가 있을 때 나누는 것이 1씩 빼는 것보다 횟수를 훨씬 줄일 수 있기 때문이다.\n",
    "'''"
   ]
  }
 ],
 "metadata": {
  "kernelspec": {
   "display_name": "Python 3 (ipykernel)",
   "language": "python",
   "name": "python3"
  },
  "language_info": {
   "codemirror_mode": {
    "name": "ipython",
    "version": 3
   },
   "file_extension": ".py",
   "mimetype": "text/x-python",
   "name": "python",
   "nbconvert_exporter": "python",
   "pygments_lexer": "ipython3",
   "version": "3.8.8"
  }
 },
 "nbformat": 4,
 "nbformat_minor": 5
}
